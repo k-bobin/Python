{
 "cells": [
  {
   "cell_type": "code",
   "execution_count": 1,
   "id": "f7e650a0",
   "metadata": {},
   "outputs": [],
   "source": [
    "def menu():\n",
    "        print(f\"{'Student':<8}{'Name':>16}{'Midterm':^10}{'Final':^8}{'Average':^8}{'Grade':^8}\",\"\\n\"\n",
    "          \"----------------------------------------------------------\")"
   ]
  },
  {
   "cell_type": "code",
   "execution_count": 2,
   "id": "60469afb",
   "metadata": {},
   "outputs": [],
   "source": [
    "def show(data):  # 정렬하는 방법 \n",
    "    menu()\n",
    "    data = dict(sorted(data.items(), key = lambda x: x[1][3], reverse=True))\n",
    "    for key, value in data.items():\n",
    "        print(f\"{key:<8}{value[0]:>16}{value[1]:^10}{value[2]:^8}{value[3]:^8}{value[4]:^8}\")"
   ]
  },
  {
   "cell_type": "code",
   "execution_count": 3,
   "id": "58dbc254",
   "metadata": {},
   "outputs": [],
   "source": [
    "def cal_average_grade(data):\n",
    "    for key, value in data.items():\n",
    "        avg_score = (value[1] + value[2]) / 2\n",
    "        value.insert(3, avg_score)\n",
    "        grades = {\n",
    "            (90, 100): 'A',\n",
    "            (80, 90): 'B',\n",
    "            (70, 80): 'C',\n",
    "            (60, 70): 'D',\n",
    "            (0, 60): 'F'\n",
    "        }\n",
    "        for grade_range, letter_grade in grades.items():\n",
    "            if avg_score >= grade_range[0] and avg_score < grade_range[1]:\n",
    "                value.insert(4, letter_grade)\n",
    "                break"
   ]
  },
  {
   "cell_type": "code",
   "execution_count": 4,
   "id": "f34fda9c",
   "metadata": {},
   "outputs": [],
   "source": [
    "def search_stu(data):\n",
    "    try:\n",
    "        stu_id = int(input(\"Student ID: \"))\n",
    "        if stu_id in data:\n",
    "            show({stu_id: data[stu_id]})\n",
    "        else: \n",
    "            print(\"NO SUCH PERSON.\")\n",
    "    except ValueError:\n",
    "        print(\"Invalid input. Please enter an integer value for the student ID.\")"
   ]
  },
  {
   "cell_type": "code",
   "execution_count": 5,
   "id": "b9836d7a",
   "metadata": {},
   "outputs": [],
   "source": [
    "def search_grade(data):\n",
    "    valid_grades = ['A', 'B', 'C', 'D', 'F']\n",
    "    stu_gr = input(\"Grade to search: \")\n",
    "    if stu_gr not in valid_grades:\n",
    "        print(\"Invalid grade entered.\")\n",
    "    else:\n",
    "        matches = {}\n",
    "        for key, value in data.items():\n",
    "            if value[4] == stu_gr: \n",
    "                matches[key] = value\n",
    "        if matches:\n",
    "            show(matches)\n",
    "        else:\n",
    "            print(\"NO RESULTS.\")"
   ]
  },
  {
   "cell_type": "code",
   "execution_count": 6,
   "id": "a4001f03",
   "metadata": {},
   "outputs": [],
   "source": [
    "def add(data):\n",
    "    try:\n",
    "        stu_id = int(input(\"Student ID: \"))\n",
    "        if stu_id in data:\n",
    "            print(\"ALREADY EXISTS.\")\n",
    "            return\n",
    "\n",
    "        new_name = input(\"Name: \")\n",
    "        if not new_name:\n",
    "            print(\"Name cannot be empty.\")\n",
    "            return\n",
    "\n",
    "        new_mid_score = int(input(\"Midterm Score: \"))\n",
    "        new_fin_score = int(input(\"Final Score: \"))\n",
    "        if not all(0 <= score <= 100 for score in (new_mid_score, new_fin_score)):\n",
    "            print(\"Score should be in range 0 to 100.\")\n",
    "            return\n",
    "        else:\n",
    "            data[stu_id] = [new_name, new_mid_score, new_fin_score]      \n",
    "            cal_average_grade(data)\n",
    "            print(\"Student added.\")\n",
    "\n",
    "    except ValueError:\n",
    "        print(\"Invalid input. Student not added.\")"
   ]
  },
  {
   "cell_type": "code",
   "execution_count": 12,
   "id": "b875f279",
   "metadata": {},
   "outputs": [],
   "source": [
    "def changescore(data):\n",
    "    stu_id = int(input(\"Student ID: \"))\n",
    "    if stu_id not in data:\n",
    "        print(\"NO SUCH PERSON.\")\n",
    "        \n",
    "    else:\n",
    "        test_kind = input(\"Mid/Final? \").lower()\n",
    "        if test_kind == \"mid\":\n",
    "            new_score = int(input(\"Input new score: \"))\n",
    "            if new_score <= 100 and new_score >= 0:\n",
    "                show({stu_id: data[stu_id]}) #before 값\n",
    "                print(\"Score changed.\") #문구 삽입\n",
    "                data[stu_id][1] = new_score\n",
    "                cal_average_grade(data)\n",
    "                print(f\"{stu_id:<8}{data[stu_id][0]:>16}{data[stu_id][1]:^10}{data[stu_id][2]:^8}{data[stu_id][3]:^8}{data[stu_id][4]:^8}\")\n",
    "            else: \n",
    "                print('Enter score in range 0 to 100')\n",
    "        \n",
    "        elif test_kind == \"final\":\n",
    "            new_score = int(input(\"Input new score: \"))\n",
    "            if new_score <= 100 and new_score >= 0:\n",
    "                show({stu_id: data[stu_id]}) #before 값\n",
    "                print(\"Score changed\")\n",
    "                data[stu_id][2] = new_score\n",
    "                cal_average_grade(data)\n",
    "                print(f\"{stu_id:<8}{data[stu_id][0]:>16}{data[stu_id][1]:^10}{data[stu_id][2]:^8}{data[stu_id][3]:^8}{data[stu_id][4]:^8}\")\n",
    "            else: \n",
    "                print('Enter score in range 0 to 100')\n",
    "\n"
   ]
  },
  {
   "cell_type": "code",
   "execution_count": 8,
   "id": "b516f110",
   "metadata": {},
   "outputs": [],
   "source": [
    "def remove(data):\n",
    "    if data.values() == None:\n",
    "        return \"List is empty.\"\n",
    "    else: \n",
    "        stu_id = int(input(\"Student ID: \"))\n",
    "        if stu_id not in data:\n",
    "            print(\"NO SUCH PERSON.\")\n",
    "        else:\n",
    "            del data[stu_id]\n",
    "            print('Student removed.')"
   ]
  },
  {
   "cell_type": "code",
   "execution_count": 9,
   "id": "bc4f4be2",
   "metadata": {},
   "outputs": [],
   "source": [
    "def quit(data):\n",
    "    save_yn = input(\"Save data?[yes/no] \").lower()\n",
    "    if save_yn == 'yes':\n",
    "        new_file = input(\"File name: \")\n",
    "        f = open(new_file, \"w\")\n",
    "\n",
    "        for key,value in data.items():\n",
    "            f.write(str(key))\n",
    "            for i in value:\n",
    "                f.write(f'\\t{i}')\n",
    "            f.write(\"\\n\")\n",
    "    elif save_yn == \"no\":\n",
    "        pass\n"
   ]
  },
  {
   "cell_type": "code",
   "execution_count": 2,
   "id": "4a9036a1",
   "metadata": {
    "scrolled": true
   },
   "outputs": [
    {
     "name": "stdout",
     "output_type": "stream",
     "text": [
      "Enter a file name: students.txt\n",
      "존재하지 않는 파일입니다\n"
     ]
    }
   ],
   "source": [
    "import os # 현재 경로를 어딘지 파악하고 경로가 지정경로와 다르면 지정경로로 바꾸기 \n",
    "\n",
    "# my_path = '/home/piai/파이썬프로그래밍-프로젝트'\n",
    "# if os.getcwd() != my_path:\n",
    "#     os.chdir(my_path)   \n",
    "default_file = \"students.txt\"\n",
    "file = input(\"Enter a file name: \")\n",
    "if file == \"\":\n",
    "    file = default_file\n",
    "if os.path.exists(file) == True:   #기본값 정하기  # 있으면 해당 파일, 파일명을 기입하지 않으면student.txt, 존재하지만 경고 메세지  \n",
    "    fr =  open(file,\"r\")   # 읽은 파일을 학번을 키, 나머지 정보는 키로 가지고 오기 \n",
    "    record = {}\n",
    "    for line in fr:\n",
    "        (key, val0, val1, val2, val3) = line.split()\n",
    "        record[int(key)] = [val0+\" \"+val1,int(val2), int(val3)] #이름 합치기\n",
    "    cal_average_grade(record)\n",
    "    show(record)\n",
    "    while True:\n",
    "        command = input(\"# \").lower()\n",
    "        if command == \"show\":\n",
    "            show(record)\n",
    "        elif command == \"search\":\n",
    "            search_stu(record)\n",
    "        elif command == \"changescore\":\n",
    "            changescore(record)\n",
    "        elif command == \"add\":\n",
    "            add(record)\n",
    "        elif command == \"searchgrade\":\n",
    "            search_grade(record)\n",
    "        elif command == \"remove\":\n",
    "            remove(record)\n",
    "        elif command == \"quit\":\n",
    "            quit(record)\n",
    "            break\n",
    "else: \n",
    "\n",
    "    print(\"존재하지 않는 파일입니다\")"
   ]
  },
  {
   "cell_type": "code",
   "execution_count": null,
   "id": "1550d39c",
   "metadata": {},
   "outputs": [],
   "source": []
  },
  {
   "cell_type": "markdown",
   "id": "7429979f",
   "metadata": {},
   "source": [
    "## "
   ]
  },
  {
   "cell_type": "code",
   "execution_count": null,
   "id": "d1885e7b",
   "metadata": {},
   "outputs": [],
   "source": []
  }
 ],
 "metadata": {
  "kernelspec": {
   "display_name": "Python 3 (ipykernel)",
   "language": "python",
   "name": "python3"
  },
  "language_info": {
   "codemirror_mode": {
    "name": "ipython",
    "version": 3
   },
   "file_extension": ".py",
   "mimetype": "text/x-python",
   "name": "python",
   "nbconvert_exporter": "python",
   "pygments_lexer": "ipython3",
   "version": "3.11.0"
  }
 },
 "nbformat": 4,
 "nbformat_minor": 5
}
